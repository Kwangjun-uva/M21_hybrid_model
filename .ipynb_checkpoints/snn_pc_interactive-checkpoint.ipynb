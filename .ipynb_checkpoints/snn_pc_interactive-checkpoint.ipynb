{
 "cells": [
  {
   "cell_type": "markdown",
   "id": "7b6950cc",
   "metadata": {},
   "source": [
    "# Interactive tool for SNN-PC"
   ]
  },
  {
   "cell_type": "markdown",
   "id": "6c502167",
   "metadata": {},
   "source": [
    "The following Jupyter Notebook code demonstrates the performance of 3-layer spiking neural network for predictive coding (SNN-PC). In this demo code, a user can interactively select an MNIST sample, which the network has never seen before but can still make infererence based on other MNIST samples on which it has been trained. "
   ]
  },
  {
   "cell_type": "code",
   "execution_count": 1,
   "id": "8b223f22",
   "metadata": {},
   "outputs": [
    {
     "name": "stdout",
     "output_type": "stream",
     "text": [
      "SNN-PC initialized\n"
     ]
    }
   ],
   "source": [
    "import numpy as np\n",
    "import matplotlib.pyplot as plt\n",
    "import ipywidgets as widgets\n",
    "from ipywidgets import interact, interactive\n",
    "\n",
    "import inference\n",
    "\n",
    "# load pre-trained weights\n",
    "w_mat = inference.load_and_convert_weights('weight_dict.pickle')\n",
    "\n",
    "# build network\n",
    "snn_pc = inference.snn_pc(w_mat=w_mat)\n",
    "\n",
    "# load MNIST data\n",
    "(X_train, y_train), (X_test, y_test) = inference.tf.keras.datasets.mnist.load_data()\n",
    "X_train = X_train.astype('float32') / 255\n",
    "X_test = X_test.astype('float32') / 255\n",
    "\n",
    "\n",
    "# Creating widgets\n",
    "digit_widget = widgets.IntSlider(min=0, max=10, step=1, description='Digit:', height='20px', width='240px')\n",
    "sample_widget = widgets.IntSlider(min=0, max=100, step=1, description='Sample:', height='20px', width='240px')\n",
    "\n",
    "def update_s_range(*args):\n",
    "    sample_widget.max = len(np.where(y_test == digit_widget.value)[0])\n",
    "\n",
    "def printer(x, y):\n",
    "    digit_chosen = digit_widget.value\n",
    "    sample_indices = np.where(y_test == int(digit_chosen))[0]\n",
    "    sample_chosen = sample_indices[sample_widget.value]\n",
    "\n",
    "    img = X_test[sample_chosen].astype(np.float32)\n",
    "\n",
    "    plt.imshow(img, vmin=0, vmax=1, cmap=\"Reds\")\n",
    "    plt.title('Selected image')\n",
    "    plt.axis('off')\n",
    "    plt.show()\n",
    "\n",
    "    return img\n",
    "\n",
    "\n",
    "digit_widget.observe(update_s_range, 'value')\n",
    "sample_selector = interactive(printer, x=digit_widget, y=sample_widget)\n",
    "\n",
    "file = open(\"snn_pc_schematics.png\", \"rb\")\n",
    "image = file.read()\n",
    "snn_model_img = widgets.Image(\n",
    "    value=image,\n",
    "    format='png',\n",
    "    width=800,\n",
    "    height=400,\n",
    ")\n",
    "\n",
    "# display(snn_model_img)\n",
    "\n",
    "runSim_button = widgets.Button(\n",
    "    description='Run simulation',\n",
    "    icon='play')\n",
    "\n",
    "def run_inference(a):\n",
    "    snn_pc(sample_selector.result)\n",
    "\n",
    "runSim_button.on_click(run_inference)\n",
    "\n",
    "interactive_simulation = widgets.AppLayout(header=None,\n",
    "                                           left_sidebar=sample_selector,\n",
    "                                           center=snn_model_img,\n",
    "                                           footer=runSim_button,\n",
    "                                           pane_widths=[3, 3, 3],\n",
    "                                           pane_heights=[1, 1, '50px'])\n",
    "\n",
    "# Creating widgets\n",
    "slider_widget = widgets.IntSlider(min=10, max=350, step=10, description='time (ms)')\n",
    "\n",
    "def slide_inference(x):\n",
    "    curr_t = int((slider_widget.value - 10) / 10)\n",
    "\n",
    "    image_shape = [(28, 28), (36, 36), (34, 34)]\n",
    "    cols = ['{}'.format(col) for col in ['Input', 'Error', 'Prediction']]\n",
    "    rows = ['Area {}'.format(str(row)) for row in range(3)]\n",
    "    \n",
    "    fig, axs = plt.subplots(nrows=3, ncols=3, figsize=(10,10))\n",
    "\n",
    "    for i in range(3):\n",
    "        bu_img = inference.tf.reshape(snn_pc.live_imgs['pc' + str(i + 1)][curr_t, 0], image_shape[i])\n",
    "        err_img = inference.tf.reshape(snn_pc.live_imgs['pc' + str(i + 1)][curr_t, 1], image_shape[i])\n",
    "        td_img = inference.tf.reshape(snn_pc.live_imgs['pc' + str(i + 1)][curr_t, 2], image_shape[i])\n",
    "\n",
    "        axs[i, 0].imshow(bu_img, vmin=600, vmax=3000, cmap=\"Reds\")\n",
    "        axs[i, 1].imshow(err_img, vmin=-3000, vmax=3000, cmap=\"bwr\")\n",
    "        axs[i, 2].imshow(td_img, vmin=600, vmax=3000, cmap=\"Reds\")\n",
    "\n",
    "    for jj in axs.flatten():\n",
    "#         jj.axis('off')\n",
    "        jj.get_xaxis().set_ticks([])\n",
    "        jj.get_yaxis().set_ticks([])\n",
    "        \n",
    "    for ax, col in zip(axs[0], cols):\n",
    "        ax.set_title(col)\n",
    "\n",
    "    for ax, row in zip(axs[:,0], rows):\n",
    "        ax.set_ylabel(row, rotation='vertical', size='large')\n",
    "        \n",
    "    plt.show()\n",
    "\n",
    "    return fig\n",
    "\n",
    "slide_inference_widget = interactive(slide_inference, x=slider_widget)"
   ]
  },
  {
   "cell_type": "markdown",
   "id": "7e810f64",
   "metadata": {},
   "source": [
    "# Please select a test image using the sliders and click on \"Run Simulation.\""
   ]
  },
  {
   "cell_type": "code",
   "execution_count": 2,
   "id": "3cb4d097",
   "metadata": {},
   "outputs": [
    {
     "data": {
      "application/vnd.jupyter.widget-view+json": {
       "model_id": "4da5a18911604f14a0731512ac2a0362",
       "version_major": 2,
       "version_minor": 0
      },
      "text/plain": [
       "AppLayout(children=(Button(description='Run simulation', icon='play', layout=Layout(grid_area='footer'), style…"
      ]
     },
     "metadata": {},
     "output_type": "display_data"
    },
    {
     "name": "stdout",
     "output_type": "stream",
     "text": [
      "Reset to resting state\n",
      "Simulation in progress. Please wait.\n"
     ]
    },
    {
     "data": {
      "application/vnd.jupyter.widget-view+json": {
       "model_id": "521415314efb4704b0f2595cc91a5135",
       "version_major": 2,
       "version_minor": 0
      },
      "text/plain": [
       "  0%|          | 0/3499 [00:00<?, ?it/s]"
      ]
     },
     "metadata": {},
     "output_type": "display_data"
    },
    {
     "name": "stdout",
     "output_type": "stream",
     "text": [
      "Simulation finished!\n"
     ]
    }
   ],
   "source": [
    "display(interactive_simulation)"
   ]
  },
  {
   "cell_type": "markdown",
   "id": "8658cad8",
   "metadata": {},
   "source": [
    "# You can see how the inference of the chosen sample evolves over time using the slider. Each point represents mean synaptic current, which corresponds to mean firing rates."
   ]
  },
  {
   "cell_type": "code",
   "execution_count": 4,
   "id": "a86f887c",
   "metadata": {},
   "outputs": [
    {
     "data": {
      "application/vnd.jupyter.widget-view+json": {
       "model_id": "42a26568df3945ff84539c429252602d",
       "version_major": 2,
       "version_minor": 0
      },
      "text/plain": [
       "interactive(children=(IntSlider(value=10, description='time (ms)', max=350, min=10, step=10), Output(outputs=(…"
      ]
     },
     "metadata": {},
     "output_type": "display_data"
    }
   ],
   "source": [
    "display(slide_inference_widget)"
   ]
  },
  {
   "cell_type": "code",
   "execution_count": null,
   "id": "0bc4bb2a",
   "metadata": {},
   "outputs": [],
   "source": []
  }
 ],
 "metadata": {
  "kernelspec": {
   "display_name": "Python 3 (ipykernel)",
   "language": "python",
   "name": "python3"
  },
  "language_info": {
   "codemirror_mode": {
    "name": "ipython",
    "version": 3
   },
   "file_extension": ".py",
   "mimetype": "text/x-python",
   "name": "python",
   "nbconvert_exporter": "python",
   "pygments_lexer": "ipython3",
   "version": "3.7.11"
  }
 },
 "nbformat": 4,
 "nbformat_minor": 5
}
